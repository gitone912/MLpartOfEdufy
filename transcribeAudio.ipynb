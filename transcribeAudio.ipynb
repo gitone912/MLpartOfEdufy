{
 "cells": [
  {
   "cell_type": "code",
   "execution_count": 2,
   "metadata": {},
   "outputs": [],
   "source": [
    "import speech_recognition as sr"
   ]
  },
  {
   "cell_type": "code",
   "execution_count": 3,
   "metadata": {},
   "outputs": [],
   "source": [
    "r = sr.Recognizer()"
   ]
  },
  {
   "cell_type": "code",
   "execution_count": 14,
   "metadata": {},
   "outputs": [],
   "source": [
    "with sr.AudioFile('output_audio.wav') as source:\n",
    "    audio_text = r.record(source)\n",
    "    audio_duration = source.DURATION"
   ]
  },
  {
   "cell_type": "code",
   "execution_count": 15,
   "metadata": {},
   "outputs": [],
   "source": [
    "\n",
    "text = \"\"\n",
    "offset = 0\n",
    "chunk_duration = 50 "
   ]
  },
  {
   "cell_type": "code",
   "execution_count": 16,
   "metadata": {},
   "outputs": [
    {
     "name": "stdout",
     "output_type": "stream",
     "text": [
      "Audio duration:  218.89451247165533\n"
     ]
    }
   ],
   "source": [
    "print(\"Audio duration: \" ,audio_duration)"
   ]
  },
  {
   "cell_type": "code",
   "execution_count": 4,
   "metadata": {},
   "outputs": [],
   "source": [
    "\n",
    "# text = r.recognize_google(audio_text,language='en-US')"
   ]
  },
  {
   "cell_type": "code",
   "execution_count": 8,
   "metadata": {},
   "outputs": [],
   "source": [
    "# import os\n",
    "# file_name = \"transcription.txt\"\n",
    "\n",
    "# with open(file_name, \"w\") as file:\n",
    "#     # Write to the file\n",
    "#     file.write(text)\n",
    "# # Open the file for editing by the user\n",
    "# os.system(f\"start {file_name}\")"
   ]
  },
  {
   "cell_type": "code",
   "execution_count": 17,
   "metadata": {},
   "outputs": [],
   "source": [
    "while offset < audio_duration:\n",
    "    with sr.AudioFile('output_audio.wav') as source:\n",
    "        audio_text = r.record(source, duration=chunk_duration, offset=offset)\n",
    "        text += r.recognize_google(audio_text,language='en-US')\n",
    "        offset += chunk_duration"
   ]
  },
  {
   "cell_type": "code",
   "execution_count": 18,
   "metadata": {},
   "outputs": [
    {
     "data": {
      "text/plain": [
       "\"hello friends and welcome to another video tutorial by Geeks for Geeks and this video will see how to search in an almost sorted problem statement given an array which is sorted but after sorting some elements are move to either of the adjacent positions that is Ayat element of an array may be present at index I plus one or I -1 we need to write an efficient function to search an element in the side the address on here is almost sorted because 4 and 10 have move to their adjacent positions but other than that all the elements are in the correct position for example if this 40 is present at index 2in cases like this where the key is not present in the side output should be minus one now the most of the solution is 12 linearly search the key in the given array time complexity of the solution what will be grown in but we can also modified binary search to do it in login time the ideas to compare the key with the middle three elements because the actual middle element could be present in one of these three positions then return the index if not then compare the key with the middle element and decide better to go in the left half or right half comparing with the middle element is all the elementsall the elements before mid minus 2 what we smaller than the middle limit let's try understanding the code now starting with the main function this is the initial array and four is the element to be started because binary search on the complete now let's look at the function we enter the swift condition now Now index of the middle most element of the array now we check if the key is present in either of the positions made minus one if so then we returned in the case the element is not presentthen in the main function the return value gets printed let's look at a working example based on the binary search approach this is Dinesh and we need to find the index of 70 first binary search is called on the entire l is zero and Rs 6 year mid turns out to be three now we compare the key with made minus one and met plus one element and it turns out that none of them is equal to ki now compare the key with the middle element which was 20 we call binary search on the right half and Rs 6 now element is notbut the element and mid + 1 which is 70 is equal to Wargi so be returned it + 1 that is 6 and hence the output is 6 thank you for watching the video please leave us your comments\""
      ]
     },
     "execution_count": 18,
     "metadata": {},
     "output_type": "execute_result"
    }
   ],
   "source": [
    "text"
   ]
  },
  {
   "cell_type": "code",
   "execution_count": 21,
   "metadata": {},
   "outputs": [
    {
     "name": "stderr",
     "output_type": "stream",
     "text": [
      "sh: start: command not found\n"
     ]
    },
    {
     "data": {
      "text/plain": [
       "32512"
      ]
     },
     "execution_count": 21,
     "metadata": {},
     "output_type": "execute_result"
    }
   ],
   "source": [
    "import os\n",
    "file_name = \"transcription.txt\"\n",
    "with open(file_name, \"w\") as file:\n",
    "    # Write to the file\n",
    "    file.write(text)\n",
    "# Open the file for editing by the user\n",
    "os.system(f\"start {file_name}\")"
   ]
  },
  {
   "cell_type": "code",
   "execution_count": null,
   "metadata": {},
   "outputs": [],
   "source": []
  }
 ],
 "metadata": {
  "kernelspec": {
   "display_name": "base",
   "language": "python",
   "name": "python3"
  },
  "language_info": {
   "codemirror_mode": {
    "name": "ipython",
    "version": 3
   },
   "file_extension": ".py",
   "mimetype": "text/x-python",
   "name": "python",
   "nbconvert_exporter": "python",
   "pygments_lexer": "ipython3",
   "version": "3.10.12"
  },
  "orig_nbformat": 4
 },
 "nbformat": 4,
 "nbformat_minor": 2
}
