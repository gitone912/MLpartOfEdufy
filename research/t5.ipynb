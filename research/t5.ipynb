{
 "cells": [
  {
   "cell_type": "code",
   "execution_count": 1,
   "metadata": {},
   "outputs": [],
   "source": [
    "import torch"
   ]
  },
  {
   "cell_type": "code",
   "execution_count": 4,
   "metadata": {},
   "outputs": [],
   "source": [
    "from transformers import AutoTokenizer, AutoModelWithLMHead"
   ]
  },
  {
   "cell_type": "code",
   "execution_count": 5,
   "metadata": {},
   "outputs": [
    {
     "name": "stderr",
     "output_type": "stream",
     "text": [
      "Downloading (…)lve/main/config.json: 100%|██████████| 1.21k/1.21k [00:00<00:00, 569kB/s]\n",
      "Downloading (…)ve/main/spiece.model: 100%|██████████| 792k/792k [00:01<00:00, 692kB/s]\n",
      "Downloading (…)/main/tokenizer.json: 100%|██████████| 1.39M/1.39M [00:00<00:00, 2.30MB/s]\n",
      "/Users/pranaymishra/anaconda3/envs/Edufy/lib/python3.10/site-packages/transformers/models/t5/tokenization_t5_fast.py:155: FutureWarning: This tokenizer was incorrectly instantiated with a model max length of 512 which will be corrected in Transformers v5.\n",
      "For now, this behavior is kept to avoid breaking backwards compatibility when padding/encoding with `truncation is True`.\n",
      "- Be aware that you SHOULD NOT rely on t5-base automatically truncating your input to 512 when padding/encoding.\n",
      "- If you want to encode/pad to sequences longer than 512 you can either instantiate this tokenizer with `model_max_length` or pass `max_length` when encoding/padding.\n",
      "- To avoid this warning, please instantiate this tokenizer with `model_max_length` set to your preferred value.\n",
      "  warnings.warn(\n"
     ]
    }
   ],
   "source": [
    "tokenizer = AutoTokenizer.from_pretrained('t5-base')"
   ]
  },
  {
   "cell_type": "code",
   "execution_count": 6,
   "metadata": {},
   "outputs": [
    {
     "name": "stderr",
     "output_type": "stream",
     "text": [
      "/Users/pranaymishra/anaconda3/envs/Edufy/lib/python3.10/site-packages/transformers/models/auto/modeling_auto.py:1423: FutureWarning: The class `AutoModelWithLMHead` is deprecated and will be removed in a future version. Please use `AutoModelForCausalLM` for causal language models, `AutoModelForMaskedLM` for masked language models and `AutoModelForSeq2SeqLM` for encoder-decoder models.\n",
      "  warnings.warn(\n",
      "Downloading model.safetensors: 100%|██████████| 892M/892M [05:34<00:00, 2.66MB/s] \n",
      "Downloading (…)neration_config.json: 100%|██████████| 147/147 [00:00<00:00, 636kB/s]\n"
     ]
    }
   ],
   "source": [
    "model = AutoModelWithLMHead.from_pretrained('t5-base' , return_dict=True)"
   ]
  },
  {
   "cell_type": "code",
   "execution_count": 7,
   "metadata": {},
   "outputs": [],
   "source": [
    "with open ('transcription.txt', 'r') as f:\n",
    "    text = f.read()"
   ]
  },
  {
   "cell_type": "code",
   "execution_count": 8,
   "metadata": {},
   "outputs": [
    {
     "data": {
      "text/plain": [
       "'Hello friends and welcome to another video tutorial by Geeksorgames. In this video we will see how to search in an almost sorted element. Problem statement. Given an array which is sorted but after sorting some elements are moved to either of the adjacent positions, that is, Iat element of an array may be present at index i plus 1 or i minus 1. We need to write an efficient function to search an element in this array. The array shown here is almost sorted because 4 and 10 have moved to their adjacent positions but other than that all elements are in their correct position. For example, if this is the given array and we need to search the index of 40, the output will be 2 because 40 is presented in index 2. In cases like this where the key is not present in this array, output should be minus 1. Now, the most of the solution is to linearly search the key in the given array. Time complexity of the solution would be big of n but we can also modify binary search to do it in log n time. The idea is to compare the key with the middle three elements because the actual middle element could be present at mid minus 1 or mid plus 1 position 2. If the key is present in one of these three positions, then return the index. If not, then compare the key with the middle element and decide better to go in the left half or right half. Comparing with the middle element is enough as all the elements after mid plus 2 would be greater than the middle element and all the elements before mid minus 2 would be smaller than the middle element. Let\\'s try and just standing the code now. Starting with the main function. This is the initial array and 4 is the element to be searched. We call binary search on the complete array. Now let\\'s look at the function. We enter this if condition now. Mets towards the index of the middle most element of the array. Now we check if the key is present in either of the positions mid, mid minus 1 or mid plus 1. If so, then we return the index. If the key is smaller than the middle element, we call binary search on the left half. And if the key is bigger than the middle element, we call binary search on the right half. Minus 1 is returned in the case where the element is not present in the array. Then in the main function, the return value gets printed. Let\\'s look at a working example based on the binary search approach. This is the initial array and we need to find the index of 70. First, binary search is called on the entire array. L is 0 and R is 6 here. Mets turns out to be 3. Now we compare the key with mid, mid minus 1, and mid plus 1 element. And it turns out that none of them is equal to key. We now compare the key with the middle element. Since key is greater than the middle element which was 20. We call binary search on the right half. L is 5 and R is 6 now. Mid becomes 5. Now, element at mid is not equal to the key, but the element at mid plus 1, which is 70, is equal to R key. So we return mid plus 1, that is 6. And hence the output is 6. Thank you for watching the video. Please leave us your comments.\"'"
      ]
     },
     "execution_count": 8,
     "metadata": {},
     "output_type": "execute_result"
    }
   ],
   "source": [
    "text"
   ]
  },
  {
   "cell_type": "code",
   "execution_count": 17,
   "metadata": {},
   "outputs": [],
   "source": [
    "inputs = tokenizer.encode(text, return_tensors=\"pt\",max_length=1000,truncation=True)"
   ]
  },
  {
   "cell_type": "code",
   "execution_count": 27,
   "metadata": {},
   "outputs": [
    {
     "data": {
      "text/plain": [
       "tensor([[ 8774,   803,    11,  2222,    12,   430,   671,  7114,    57,   961,\n",
       "         16789,   127,  7261,     7,     5,    86,    48,   671,    62,    56,\n",
       "           217,   149,    12,   960,    16,    46,   966,     3, 14504,  3282,\n",
       "             5,  5289,  2493,     5,  9246,    46,  5590,    84,    19,     3,\n",
       "         14504,    68,   227,  1843,    53,   128,  2479,    33,  2301,    12,\n",
       "           893,    13,     8, 12487,  4655,     6,    24,    19,     6,    27,\n",
       "           144,  3282,    13,    46,  5590,   164,    36,   915,    44,  5538,\n",
       "             3,    23,   303,   209,    42,     3,    23,     3, 14078,  1300,\n",
       "           101,   174,    12,  1431,    46,  2918,  1681,    12,   960,    46,\n",
       "          3282,    16,    48,  5590,     5,    37,  5590,  2008,   270,    19,\n",
       "           966,     3, 14504,   250,   314,    11,   335,    43,  2301,    12,\n",
       "            70, 12487,  4655,    68,   119,   145,    24,    66,  2479,    33,\n",
       "            16,    70,  2024,  1102,     5,   242,   677,     6,     3,    99,\n",
       "            48,    19,     8,   787,  5590,    11,    62,   174,    12,   960,\n",
       "             8,  5538,    13,  1283,     6,     8,  3911,    56,    36,   204,\n",
       "           250,  1283,    19,  2569,    16,  5538,  1682,    86,  1488,   114,\n",
       "            48,   213,     8,   843,    19,    59,   915,    16,    48,  5590,\n",
       "             6,  3911,   225,    36,     3, 14078,  1300,   852,     6,     8,\n",
       "           167,    13,     8,  1127,    19,    12, 13080,   120,   960,     8,\n",
       "           843,    16,     8,   787,  5590,     5,  2900, 11641,    13,     8,\n",
       "          1127,   133,    36,   600,    13,     3,    29,    68,    62,    54,\n",
       "            92, 11435, 14865,   960,    12,   103,    34,    16,  4303,     3,\n",
       "            29,    97,     5,    37,   800,    19,    12,  4048,     8,   843,\n",
       "            28,     8,  2214,   386,  2479,   250,     8,  1805,  2214,  3282,\n",
       "           228,    36,   915,    44,  2076,     3, 14078,   209,    42,  2076,\n",
       "           303,   209,  1102,  1682,   156,     8,   843,    19,   915,    16,\n",
       "            80,    13,   175,   386,  4655,     6,   258,  1205,     8,  5538,\n",
       "             5,   156,    59,     6,   258,  4048,     8,   843,    28,     8,\n",
       "          2214,  3282,    11,  2204,   394,    12,   281,    16,     8,   646,\n",
       "           985,    42,   269,   985,     5, 20959,    53,    28,     8,  2214,\n",
       "          3282,    19,   631,    38,    66,     8,  2479,   227,  2076,   303,\n",
       "           204,   133,    36,  2123,   145,     8,  2214,  3282,    11,    66,\n",
       "             8,  2479,   274,  2076,     3, 14078,   204,   133,    36,  2755,\n",
       "           145,     8,  2214,  3282,     5,  1563,    31,     7,   653,    11,\n",
       "           131,  4125,     8,  1081,   230,     5, 14362,    28,     8,   711,\n",
       "          1681,     5,   100,    19,     8,  2332,  5590,    11,   314,    19,\n",
       "             8,  3282,    12,    36, 19141,     5,   101,   580, 14865,   960,\n",
       "            30,     8,   743,  5590,     5,   852,   752,    31,     7,   320,\n",
       "            44,     8,  1681,     5,   101,  2058,    48,     3,    99,  1706,\n",
       "           230,     5,  8146,     7,  1587,     8,  5538,    13,     8,  2214,\n",
       "           167,  3282,    13,     8,  5590,     5,   852,    62,   691,     3,\n",
       "            99,     8,   843,    19,   915,    16,   893,    13,     8,  4655,\n",
       "          2076,     6,  2076,     3, 14078,   209,    42,  2076,   303,  1300,\n",
       "           156,    78,     6,   258,    62,  1205,     8,  5538,     5,   156,\n",
       "             8,   843,    19,  2755,   145,     8,  2214,  3282,     6,    62,\n",
       "           580, 14865,   960,    30,     8,   646,   985,     5,   275,     3,\n",
       "            99,     8,   843,    19,  4038,   145,     8,  2214,  3282,     6,\n",
       "            62,   580, 14865,   960,    30,     8,   269,   985,     5,  4765,\n",
       "           302,   209,    19,  3666,    16,     8,   495,   213,     8,  3282,\n",
       "            19,    59,   915,    16,     8,  5590,     5,    37,    29,    16,\n",
       "             8,   711,  1681,     6,     8,  1205,   701,  2347,  5519,     5,\n",
       "          1563,    31,     7,   320,    44,     3,     9,   464,   677,     3,\n",
       "           390,    30,     8, 14865,   960,  1295,     5,   100,    19,     8,\n",
       "          2332,  5590,    11,    62,   174,    12,   253,     8,  5538,    13,\n",
       "          2861,     5,  1485,     6, 14865,   960,    19,   718,    30,     8,\n",
       "          1297,  5590,     5,   301,    19,     3,   632,    11,   391,    19,\n",
       "           431,   270,     5,  8146,     7,  5050,    91,    12,    36,  1877,\n",
       "           852,    62,  4048,     8,   843,    28,  2076,     6,  2076,     3,\n",
       "         14078,  1914,    11,  2076,   303,   209,  3282,     5,   275,    34,\n",
       "          5050,    91,    24,  5839,    13,   135,    19,  4081,    12,   843,\n",
       "             5,   101,   230,  4048,     8,   843,    28,     8,  2214,  3282,\n",
       "             5,  1541,   843,    19,  2123,   145,     8,  2214,  3282,    84,\n",
       "            47,   460,     5,   101,   580, 14865,   960,    30,     8,   269,\n",
       "           985,     5,   301,    19,   305,    11,   391,    19,   431,   230,\n",
       "             5,  6650,  2992,  3594,   852,     6,  3282,    44,  2076,    19,\n",
       "            59,  4081,    12,     8,   843,     6,    68,     8,  3282,    44,\n",
       "          2076,   303,  1914,    84,    19,  2861,     6,    19,  4081,    12,\n",
       "           391,   843,     5,   264,    62,  1205,  2076,   303,  1914,    24,\n",
       "            19,  4357,   275, 10321,     8,  3911,    19,  4357,  1562,    25,\n",
       "            21,  3355,     8,   671,     5,   863,  1175,   178,    39,  2622,\n",
       "           535,     1]])"
      ]
     },
     "execution_count": 27,
     "metadata": {},
     "output_type": "execute_result"
    }
   ],
   "source": [
    "inputs"
   ]
  },
  {
   "cell_type": "code",
   "execution_count": 28,
   "metadata": {},
   "outputs": [],
   "source": [
    "outputs = model.generate(inputs, max_length=300, num_beams=4, early_stopping=False,length_penalty=2.0)"
   ]
  },
  {
   "cell_type": "code",
   "execution_count": 29,
   "metadata": {},
   "outputs": [],
   "source": [
    "summary = tokenizer.decode(outputs[0], skip_special_tokens=True)"
   ]
  },
  {
   "cell_type": "code",
   "execution_count": 30,
   "metadata": {},
   "outputs": [
    {
     "data": {
      "text/plain": [
       "'10 is the element to be searched. Since key is greater than the middle element which was 20, we call binary search on the right half. L is 5 and R is 6 now. Mid becomes 5. Now we compare the key with the middle element. Since key is greater than the middle element which was 20. We call binary search on the left half. L is 0 and R is 6 now. Mid becomes 5. Thank you for watching the video. Please leave us your comments.'"
      ]
     },
     "execution_count": 30,
     "metadata": {},
     "output_type": "execute_result"
    }
   ],
   "source": [
    "summary"
   ]
  },
  {
   "cell_type": "code",
   "execution_count": null,
   "metadata": {},
   "outputs": [],
   "source": []
  }
 ],
 "metadata": {
  "kernelspec": {
   "display_name": "Edufy",
   "language": "python",
   "name": "python3"
  },
  "language_info": {
   "codemirror_mode": {
    "name": "ipython",
    "version": 3
   },
   "file_extension": ".py",
   "mimetype": "text/x-python",
   "name": "python",
   "nbconvert_exporter": "python",
   "pygments_lexer": "ipython3",
   "version": "3.10.12"
  },
  "orig_nbformat": 4
 },
 "nbformat": 4,
 "nbformat_minor": 2
}
