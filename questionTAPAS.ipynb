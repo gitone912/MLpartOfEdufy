{
 "cells": [
  {
   "cell_type": "markdown",
   "metadata": {},
   "source": [
    "marioosis"
   ]
  },
  {
   "cell_type": "code",
   "execution_count": 28,
   "metadata": {},
   "outputs": [],
   "source": [
    "from  transformers  import  AutoTokenizer, AutoModelWithLMHead, pipeline\n"
   ]
  },
  {
   "cell_type": "code",
   "execution_count": 29,
   "metadata": {},
   "outputs": [],
   "source": [
    "model_name = \"MaRiOrOsSi/t5-base-finetuned-question-answering\""
   ]
  },
  {
   "cell_type": "code",
   "execution_count": 30,
   "metadata": {},
   "outputs": [],
   "source": [
    "tokenizer = AutoTokenizer.from_pretrained(model_name)"
   ]
  },
  {
   "cell_type": "code",
   "execution_count": 31,
   "metadata": {},
   "outputs": [
    {
     "name": "stderr",
     "output_type": "stream",
     "text": [
      "/Users/pranaymishra/anaconda3/envs/Edufy/lib/python3.10/site-packages/transformers/models/auto/modeling_auto.py:1423: FutureWarning: The class `AutoModelWithLMHead` is deprecated and will be removed in a future version. Please use `AutoModelForCausalLM` for causal language models, `AutoModelForMaskedLM` for masked language models and `AutoModelForSeq2SeqLM` for encoder-decoder models.\n",
      "  warnings.warn(\n"
     ]
    }
   ],
   "source": [
    "model = AutoModelWithLMHead.from_pretrained(model_name)"
   ]
  },
  {
   "cell_type": "code",
   "execution_count": 33,
   "metadata": {},
   "outputs": [],
   "source": [
    "question = \"40 is presented ?\""
   ]
  },
  {
   "cell_type": "code",
   "execution_count": 34,
   "metadata": {},
   "outputs": [],
   "source": [
    "with open (\"transcription.txt\", \"r\") as myfile:\n",
    "    data=myfile.read().replace('\\n', '')"
   ]
  },
  {
   "cell_type": "code",
   "execution_count": 35,
   "metadata": {},
   "outputs": [
    {
     "data": {
      "text/plain": [
       "'Hello friends and welcome to another video tutorial by Geeksorgames. In this video we will see how to search in an almost sorted element. Problem statement. Given an array which is sorted but after sorting some elements are moved to either of the adjacent positions, that is, Iat element of an array may be present at index i plus 1 or i minus 1. We need to write an efficient function to search an element in this array. The array shown here is almost sorted because 4 and 10 have moved to their adjacent positions but other than that all elements are in their correct position. For example, if this is the given array and we need to search the index of 40, the output will be 2 because 40 is presented in index 2. In cases like this where the key is not present in this array, output should be minus 1. Now, the most of the solution is to linearly search the key in the given array. Time complexity of the solution would be big of n but we can also modify binary search to do it in log n time. The idea is to compare the key with the middle three elements because the actual middle element could be present at mid minus 1 or mid plus 1 position 2. If the key is present in one of these three positions, then return the index. If not, then compare the key with the middle element and decide better to go in the left half or right half. Comparing with the middle element is enough as all the elements after mid plus 2 would be greater than the middle element and all the elements before mid minus 2 would be smaller than the middle element. Let\\'s try and just standing the code now. Starting with the main function. This is the initial array and 4 is the element to be searched. We call binary search on the complete array. Now let\\'s look at the function. We enter this if condition now. Mets towards the index of the middle most element of the array. Now we check if the key is present in either of the positions mid, mid minus 1 or mid plus 1. If so, then we return the index. If the key is smaller than the middle element, we call binary search on the left half. And if the key is bigger than the middle element, we call binary search on the right half. Minus 1 is returned in the case where the element is not present in the array. Then in the main function, the return value gets printed. Let\\'s look at a working example based on the binary search approach. This is the initial array and we need to find the index of 70. First, binary search is called on the entire array. L is 0 and R is 6 here. Mets turns out to be 3. Now we compare the key with mid, mid minus 1, and mid plus 1 element. And it turns out that none of them is equal to key. We now compare the key with the middle element. Since key is greater than the middle element which was 20. We call binary search on the right half. L is 5 and R is 6 now. Mid becomes 5. Now, element at mid is not equal to the key, but the element at mid plus 1, which is 70, is equal to R key. So we return mid plus 1, that is 6. And hence the output is 6. Thank you for watching the video. Please leave us your comments.\"'"
      ]
     },
     "execution_count": 35,
     "metadata": {},
     "output_type": "execute_result"
    }
   ],
   "source": [
    "data"
   ]
  },
  {
   "cell_type": "code",
   "execution_count": 36,
   "metadata": {},
   "outputs": [],
   "source": [
    "context = data"
   ]
  },
  {
   "cell_type": "code",
   "execution_count": 37,
   "metadata": {},
   "outputs": [],
   "source": [
    "input = f\"question: {question} context: {context}\""
   ]
  },
  {
   "cell_type": "code",
   "execution_count": 38,
   "metadata": {},
   "outputs": [],
   "source": [
    "encoded_input = tokenizer([input],\n",
    "                             return_tensors='pt',\n",
    "                             max_length=512,\n",
    "                             truncation=True)"
   ]
  },
  {
   "cell_type": "code",
   "execution_count": 39,
   "metadata": {},
   "outputs": [],
   "source": [
    "output = model.generate(input_ids = encoded_input.input_ids,\n",
    "                            attention_mask = encoded_input.attention_mask)"
   ]
  },
  {
   "cell_type": "code",
   "execution_count": 40,
   "metadata": {},
   "outputs": [
    {
     "name": "stdout",
     "output_type": "stream",
     "text": [
      "40 is presented in index 2\n"
     ]
    }
   ],
   "source": [
    "output = tokenizer.decode(output[0], skip_special_tokens=True)\n",
    "print(output)"
   ]
  },
  {
   "cell_type": "code",
   "execution_count": null,
   "metadata": {},
   "outputs": [],
   "source": []
  }
 ],
 "metadata": {
  "kernelspec": {
   "display_name": "Edufy",
   "language": "python",
   "name": "python3"
  },
  "language_info": {
   "codemirror_mode": {
    "name": "ipython",
    "version": 3
   },
   "file_extension": ".py",
   "mimetype": "text/x-python",
   "name": "python",
   "nbconvert_exporter": "python",
   "pygments_lexer": "ipython3",
   "version": "3.10.12"
  },
  "orig_nbformat": 4
 },
 "nbformat": 4,
 "nbformat_minor": 2
}
